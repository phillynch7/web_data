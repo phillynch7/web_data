{
 "cells": [
  {
   "cell_type": "code",
   "execution_count": 1,
   "metadata": {
    "collapsed": true
   },
   "outputs": [],
   "source": [
    "import datetime\n",
    "import pandas as pd\n",
    "import forecastio\n",
    "import getpass"
   ]
  },
  {
   "cell_type": "code",
   "execution_count": 2,
   "metadata": {
    "collapsed": false
   },
   "outputs": [
    {
     "name": "stdout",
     "output_type": "stream",
     "text": [
      "········\n"
     ]
    }
   ],
   "source": [
    "# enter api\n",
    "api_key = getpass.getpass()"
   ]
  },
  {
   "cell_type": "code",
   "execution_count": 3,
   "metadata": {
    "collapsed": false
   },
   "outputs": [
    {
     "data": {
      "text/plain": [
       "32"
      ]
     },
     "execution_count": 3,
     "metadata": {},
     "output_type": "execute_result"
    }
   ],
   "source": [
    "len(api_key)"
   ]
  },
  {
   "cell_type": "code",
   "execution_count": 22,
   "metadata": {
    "collapsed": true
   },
   "outputs": [],
   "source": [
    "# enter coord\n",
    "lat = 28.3852\n",
    "lng = -81.5639"
   ]
  },
  {
   "cell_type": "code",
   "execution_count": 23,
   "metadata": {
    "collapsed": true
   },
   "outputs": [],
   "source": [
    "# start date - can only pull 2 years each day due to 1k free api calls limit\n",
    "startYear = 2000\n",
    "startDate = datetime.datetime(startYear,1,1)\n",
    "ndays = (datetime.datetime(startYear+2,1,1) - datetime.datetime(startYear,1,1)).days"
   ]
  },
  {
   "cell_type": "code",
   "execution_count": 24,
   "metadata": {
    "collapsed": false
   },
   "outputs": [],
   "source": [
    "# empty hourly, daily df\n",
    "dfh = pd.DataFrame()\n",
    "dfd = pd.DataFrame()\n",
    "\n",
    "# loop through historical days\n",
    "for offset in range (0,ndays):\n",
    "    # pull forecast\n",
    "    fc = forecastio.load_forecast(api_key, lat, lng, time = startDate + datetime.timedelta(offset))\n",
    "    \n",
    "    # append hourly data to hourly df\n",
    "    for i in range(0, len(fc.json['hourly'].get('data'))):\n",
    "        df_i = pd.DataFrame([fc.json['hourly'].get('data')[i]])\n",
    "        dfh = pd.concat([dfh, df_i], ignore_index=True)\n",
    "    \n",
    "    # append daily data to daily df\n",
    "    for i in range(0, len(fc.json['daily'].get('data'))):\n",
    "        df_i = pd.DataFrame([fc.json['daily'].get('data')[i]])\n",
    "        dfd = pd.concat([dfd, df_i], ignore_index=True)\n",
    "\n",
    "# unix time vars\n",
    "hourlyTimeAttr = [col for col in dfh.columns if 'time' in col.lower()]\n",
    "dailyTimeAttr = [col for col in dfd.columns if 'time' in col.lower()]\n",
    "\n",
    "# convert unix time to datetime\n",
    "for t in hourlyTimeAttr:\n",
    "    dfh[t] = dfh[t].apply(lambda x: datetime.datetime.fromtimestamp(x) if(pd.notnull(x)) else None)\n",
    "    \n",
    "for t in dailyTimeAttr:\n",
    "    dfd[t] = dfd[t].apply(lambda x: datetime.datetime.fromtimestamp(x) if(pd.notnull(x)) else None)\n",
    "\n",
    "# export to csv\n",
    "hourlyCSV = 'data\\weather\\weather_hourly_' + str(startYear) + '_' + str(startYear+1) + '.csv'\n",
    "dailyCSV = 'data\\weather\\weather_daily_' + str(startYear) + '_' + str(startYear+1) + '.csv'\n",
    "dfh.to_csv(hourlyCSV)\n",
    "dfd.to_csv(dailyCSV)"
   ]
  }
 ],
 "metadata": {
  "kernelspec": {
   "display_name": "Python 2",
   "language": "python",
   "name": "python2"
  },
  "language_info": {
   "codemirror_mode": {
    "name": "ipython",
    "version": 2
   },
   "file_extension": ".py",
   "mimetype": "text/x-python",
   "name": "python",
   "nbconvert_exporter": "python",
   "pygments_lexer": "ipython2",
   "version": "2.7.11"
  }
 },
 "nbformat": 4,
 "nbformat_minor": 0
}
