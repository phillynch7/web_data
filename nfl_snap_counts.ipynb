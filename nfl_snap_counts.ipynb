{
 "cells": [
  {
   "cell_type": "markdown",
   "metadata": {},
   "source": [
    "# concat snap count csvs from footballoutsiders"
   ]
  },
  {
   "cell_type": "code",
   "execution_count": 70,
   "metadata": {
    "collapsed": false
   },
   "outputs": [],
   "source": [
    "import os\n",
    "import csv\n",
    "import pandas as pd\n",
    "import numpy as np\n",
    "\n",
    "os.chdir(r'C:\\Users\\Phil\\projects\\nfl\\snap_counts')"
   ]
  },
  {
   "cell_type": "code",
   "execution_count": 23,
   "metadata": {
    "collapsed": false
   },
   "outputs": [],
   "source": [
    "# check that cols are consistent for each file\n",
    "fout = open(\"first_cols.csv\",\"a\")\n",
    "for s in range(2012,2016):\n",
    "    for w in range(1,22):\n",
    "        if s<>2015 or w<>21:\n",
    "            csvs = 's' + str(s) + 'w' + \"%02d\" % (w,) + '.csv'\n",
    "            csvf = csv.reader(open(csvs))\n",
    "            row1 = str(next(csvf)) + '\\n'\n",
    "            fout.write(row1)\n",
    "fout.close()"
   ]
  },
  {
   "cell_type": "markdown",
   "metadata": {},
   "source": [
    "# reading into dataframe"
   ]
  },
  {
   "cell_type": "code",
   "execution_count": 81,
   "metadata": {
    "collapsed": false
   },
   "outputs": [],
   "source": [
    "df = pd.DataFrame()\n",
    "\n",
    "for s in range(2012,2016):\n",
    "    for w in range(1,22):\n",
    "        if s<>2015 or w<>21:\n",
    "            csvf = 's' + str(s) + 'w' + \"%02d\" % (w,) + '.csv'\n",
    "            df_i = pd.read_csv(csvf)\n",
    "            df_i['season'] = s\n",
    "            df_i['week'] = w\n",
    "            df = pd.concat([df, df_i], ignore_index=True)"
   ]
  },
  {
   "cell_type": "code",
   "execution_count": 82,
   "metadata": {
    "collapsed": false
   },
   "outputs": [],
   "source": [
    "# change col order, sort, reset index\n",
    "cols = ['season',\n",
    "        'week',\n",
    "        'Team',\n",
    "        'Position',\n",
    "        'Player',\n",
    "        'Started',\n",
    "        'Total Snaps',\n",
    "        'Off Snaps',\n",
    "        'Off Snap Pct',\n",
    "        'Def Snaps',\n",
    "        'Def Snap Pct',\n",
    "        'ST Snaps',\n",
    "        'ST Snap Pct']\n",
    "df = df[cols]\n",
    "df.sort_values(['season','week','Team','Player'], inplace=True)\n",
    "df.set_index(np.arange(len(df.index)), inplace=True)\n",
    "\n",
    "# output to csv\n",
    "df.to_csv(r'C:\\Users\\Phil\\projects\\nfl\\snap_counts\\all_2012_2015.csv')"
   ]
  }
 ],
 "metadata": {
  "kernelspec": {
   "display_name": "Python 2",
   "language": "python",
   "name": "python2"
  },
  "language_info": {
   "codemirror_mode": {
    "name": "ipython",
    "version": 2
   },
   "file_extension": ".py",
   "mimetype": "text/x-python",
   "name": "python",
   "nbconvert_exporter": "python",
   "pygments_lexer": "ipython2",
   "version": "2.7.11"
  }
 },
 "nbformat": 4,
 "nbformat_minor": 0
}
